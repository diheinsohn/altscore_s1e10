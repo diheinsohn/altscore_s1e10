{
 "cells": [
  {
   "cell_type": "markdown",
   "metadata": {},
   "source": [
    "# Altscore `cost_of_living` prediction pre processing"
   ]
  },
  {
   "cell_type": "markdown",
   "metadata": {},
   "source": [
    "h3 lat/lon to HEX example"
   ]
  },
  {
   "cell_type": "code",
   "execution_count": null,
   "metadata": {
    "vscode": {
     "languageId": "plaintext"
    }
   },
   "outputs": [],
   "source": [
    "# Example code snippet to convert galactic coordinates to H3 index\n",
    "import h3\n",
    "\n",
    "latitude = 37.7749  # Example coordinate\n",
    "longitude = -122.4194  # Example coordinate\n",
    "resolution = 8  # H3 encryption level\n",
    "\n",
    "h3_index = h3.latlng_to_cell(latitude, longitude, resolution)\n",
    "print(f\"H3 Index: {h3_index}\")"
   ]
  },
  {
   "cell_type": "markdown",
   "metadata": {},
   "source": [
    "## Hex ID extraction"
   ]
  },
  {
   "cell_type": "markdown",
   "metadata": {},
   "source": [
    "Define functions to get hex_id using dask for large data"
   ]
  },
  {
   "cell_type": "code",
   "execution_count": null,
   "metadata": {
    "vscode": {
     "languageId": "plaintext"
    }
   },
   "outputs": [],
   "source": [
    "import numpy as np\n",
    "import pandas as pd\n",
    "import dask.dataframe as dd"
   ]
  },
  {
   "cell_type": "code",
   "execution_count": null,
   "metadata": {
    "vscode": {
     "languageId": "plaintext"
    }
   },
   "outputs": [],
   "source": [
    "def add_h3_column(df):\n",
    "    df = df.copy() \n",
    "    df['hex_id'] = df.apply(lambda row: h3.latlng_to_cell(row['lat'], row['lon'], 8), axis=1)\n",
    "    return df[['device_id', 'lat', 'lon', 'timestamp', 'hex_id']]  \n"
   ]
  },
  {
   "cell_type": "code",
   "execution_count": null,
   "metadata": {
    "vscode": {
     "languageId": "plaintext"
    }
   },
   "outputs": [],
   "source": [
    "ddf = dd.read_parquet('mobility_data.parquet', columns=['device_id', 'lat', 'lon', 'timestamp'], blocksize=\"100MB\")"
   ]
  },
  {
   "cell_type": "code",
   "execution_count": null,
   "metadata": {
    "vscode": {
     "languageId": "plaintext"
    }
   },
   "outputs": [],
   "source": [
    "meta = {\n",
    "    'device_id': 'int64',\n",
    "    'lat': 'f8',\n",
    "    'lon': 'f8',\n",
    "    'timestamp': 'int64',\n",
    "    'hex_id': 'str'\n",
    "}\n",
    "# Apply function to each partition\n",
    "ddf = ddf.map_partitions(add_h3_column, meta=meta)"
   ]
  },
  {
   "cell_type": "code",
   "execution_count": null,
   "metadata": {
    "vscode": {
     "languageId": "plaintext"
    }
   },
   "outputs": [],
   "source": [
    "for i, partition in enumerate(ddf.to_delayed()):\n",
    "    partition_df = partition.compute()\n",
    "    partition_df.to_parquet(f\"processed_data_{i}.parquet\")  # Save each partition separately\n",
    "    print(f\"Processed partition {i}\")"
   ]
  },
  {
   "cell_type": "markdown",
   "metadata": {},
   "source": [
    "## Area computation"
   ]
  },
  {
   "cell_type": "markdown",
   "metadata": {},
   "source": [
    "Get area of hex_id in Square Km"
   ]
  },
  {
   "cell_type": "markdown",
   "metadata": {},
   "source": [
    "Define function for Area"
   ]
  },
  {
   "cell_type": "code",
   "execution_count": null,
   "metadata": {
    "vscode": {
     "languageId": "plaintext"
    }
   },
   "outputs": [],
   "source": [
    "import geopandas as gpd\n",
    "from shapely.geometry import Polygon\n",
    "# Function to compute area of a hex_id using lat/lon points\n",
    "def compute_hex_area(hex_id, df):\n",
    "    # Get all points belonging to this hex_id\n",
    "    hex_points = df[df['hex_id'] == hex_id][['lat', 'lon']].values\n",
    "\n",
    "    # If there are not enough points to form a polygon, return 0\n",
    "    if len(hex_points) < 3:\n",
    "        return 0\n",
    "\n",
    "    # Create a convex hull polygon\n",
    "    polygon = Polygon(hex_points).convex_hull\n",
    "\n",
    "    # Convert to GeoDataFrame to compute area (using WGS84 projection)\n",
    "    gdf = gpd.GeoDataFrame(geometry=[polygon], crs=\"EPSG:4326\")\n",
    "    gdf = gdf.to_crs(\"EPSG:3857\")  # Convert to meters-based projection\n",
    "\n",
    "    return gdf.area.iloc[0] / 1e6  # Convert to square kilometers"
   ]
  },
  {
   "cell_type": "code",
   "execution_count": null,
   "metadata": {
    "vscode": {
     "languageId": "plaintext"
    }
   },
   "outputs": [],
   "source": [
    "for file in parquet_files:\n",
    "    print(file)\n",
    "    df = pd.read_parquet(file)\n",
    "    hex_areas = {hex_id: compute_hex_area(hex_id, df) for hex_id in df['hex_id'].unique()}\n",
    "\n",
    "    # Convert to DataFrame\n",
    "    hex_area_df = pd.DataFrame(list(hex_areas.items()), columns=['hex_id', 'area_sq_km'])\n",
    "    df = df.merge(hex_area_df, on=\"hex_id\", how=\"left\")\n",
    "    df.to_parquet(file, index=False)"
   ]
  }
 ],
 "metadata": {
  "language_info": {
   "name": "python"
  }
 },
 "nbformat": 4,
 "nbformat_minor": 2
}
